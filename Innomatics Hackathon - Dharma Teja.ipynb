{
 "cells": [
  {
   "cell_type": "code",
   "execution_count": 1,
   "id": "d208099a",
   "metadata": {},
   "outputs": [
    {
     "name": "stdout",
     "output_type": "stream",
     "text": [
      "Requirement already satisfied: pandas in c:\\users\\notif\\anaconda3\\lib\\site-packages (1.5.3)\n",
      "Requirement already satisfied: requests in c:\\users\\notif\\anaconda3\\lib\\site-packages (2.28.1)\n",
      "Requirement already satisfied: beautifulsoup4 in c:\\users\\notif\\anaconda3\\lib\\site-packages (4.12.2)\n",
      "Requirement already satisfied: pytz>=2020.1 in c:\\users\\notif\\anaconda3\\lib\\site-packages (from pandas) (2022.7)\n",
      "Requirement already satisfied: numpy>=1.21.0 in c:\\users\\notif\\anaconda3\\lib\\site-packages (from pandas) (1.23.5)\n",
      "Requirement already satisfied: python-dateutil>=2.8.1 in c:\\users\\notif\\anaconda3\\lib\\site-packages (from pandas) (2.8.2)\n",
      "Requirement already satisfied: idna<4,>=2.5 in c:\\users\\notif\\anaconda3\\lib\\site-packages (from requests) (3.4)\n",
      "Requirement already satisfied: certifi>=2017.4.17 in c:\\users\\notif\\anaconda3\\lib\\site-packages (from requests) (2023.5.7)\n",
      "Requirement already satisfied: charset-normalizer<3,>=2 in c:\\users\\notif\\anaconda3\\lib\\site-packages (from requests) (2.0.4)\n",
      "Requirement already satisfied: urllib3<1.27,>=1.21.1 in c:\\users\\notif\\anaconda3\\lib\\site-packages (from requests) (1.26.14)\n",
      "Requirement already satisfied: soupsieve>1.2 in c:\\users\\notif\\anaconda3\\lib\\site-packages (from beautifulsoup4) (2.3.2.post1)\n",
      "Requirement already satisfied: six>=1.5 in c:\\users\\notif\\anaconda3\\lib\\site-packages (from python-dateutil>=2.8.1->pandas) (1.16.0)\n",
      "Note: you may need to restart the kernel to use updated packages.\n"
     ]
    }
   ],
   "source": [
    "pip install pandas requests beautifulsoup4"
   ]
  },
  {
   "cell_type": "code",
   "execution_count": 3,
   "id": "8d1a6121",
   "metadata": {},
   "outputs": [
    {
     "name": "stdout",
     "output_type": "stream",
     "text": [
      "Number of .csv files in the dataset: 4\n",
      "Shape of 'movies.csv': (9742, 3)\n",
      "Shape of 'ratings.csv': (100836, 4)\n",
      "Number of unique userId in 'ratings.csv': 610\n",
      "Movie with the maximum number of user ratings: Age of Innocence, The (1993)\n",
      "Tags for 'Matrix, The (1999)': []\n",
      "Average user rating for 'Terminator 2: Judgment Day (1991)': 3.970982142857143\n",
      "Data distribution of user ratings for 'Fight Club (1999)': count    218.000000\n",
      "mean       4.272936\n",
      "std        0.861384\n",
      "min        0.500000\n",
      "25%        4.000000\n",
      "50%        4.500000\n",
      "75%        5.000000\n",
      "max        5.000000\n",
      "Name: rating, dtype: float64\n",
      "The most popular movie based on average user ratings: Shawshank Redemption, The (1994)\n",
      "Top 5 popular movies based on number of user ratings: ['Forrest Gump (1994)', 'Shawshank Redemption, The (1994)', 'Pulp Fiction (1994)', 'Silence of the Lambs, The (1991)', 'Matrix, The (1999)']\n",
      "The third most popular Sci-Fi movie: Jurassic Park (1993)\n"
     ]
    },
    {
     "ename": "TypeError",
     "evalue": "'>' not supported between instances of 'NoneType' and 'NoneType'",
     "output_type": "error",
     "traceback": [
      "\u001b[1;31m---------------------------------------------------------------------------\u001b[0m",
      "\u001b[1;31mTypeError\u001b[0m                                 Traceback (most recent call last)",
      "Cell \u001b[1;32mIn[3], line 82\u001b[0m\n\u001b[0;32m     79\u001b[0m         imdb_ratings\u001b[38;5;241m.\u001b[39mappend({\u001b[38;5;124m'\u001b[39m\u001b[38;5;124mmovieId\u001b[39m\u001b[38;5;124m'\u001b[39m: movie_id, \u001b[38;5;124m'\u001b[39m\u001b[38;5;124mimdb_rating\u001b[39m\u001b[38;5;124m'\u001b[39m: \u001b[38;5;28;01mNone\u001b[39;00m})\n\u001b[0;32m     81\u001b[0m \u001b[38;5;66;03m# Find movieId with the highest IMDb rating\u001b[39;00m\n\u001b[1;32m---> 82\u001b[0m highest_imdb_rating_movieId \u001b[38;5;241m=\u001b[39m \u001b[38;5;28;43mmax\u001b[39;49m\u001b[43m(\u001b[49m\u001b[43mimdb_ratings\u001b[49m\u001b[43m,\u001b[49m\u001b[43m \u001b[49m\u001b[43mkey\u001b[49m\u001b[38;5;241;43m=\u001b[39;49m\u001b[38;5;28;43;01mlambda\u001b[39;49;00m\u001b[43m \u001b[49m\u001b[43mx\u001b[49m\u001b[43m:\u001b[49m\u001b[43m \u001b[49m\u001b[43mx\u001b[49m\u001b[43m[\u001b[49m\u001b[38;5;124;43m'\u001b[39;49m\u001b[38;5;124;43mimdb_rating\u001b[39;49m\u001b[38;5;124;43m'\u001b[39;49m\u001b[43m]\u001b[49m\u001b[43m)\u001b[49m[\u001b[38;5;124m'\u001b[39m\u001b[38;5;124mmovieId\u001b[39m\u001b[38;5;124m'\u001b[39m]\n\u001b[0;32m     83\u001b[0m \u001b[38;5;28mprint\u001b[39m(\u001b[38;5;124mf\u001b[39m\u001b[38;5;124m\"\u001b[39m\u001b[38;5;124mMovieId with the highest IMDb rating: \u001b[39m\u001b[38;5;132;01m{\u001b[39;00mhighest_imdb_rating_movieId\u001b[38;5;132;01m}\u001b[39;00m\u001b[38;5;124m\"\u001b[39m)\n\u001b[0;32m     85\u001b[0m \u001b[38;5;66;03m# Find the Sci-Fi movieId with the highest IMDb rating\u001b[39;00m\n",
      "\u001b[1;31mTypeError\u001b[0m: '>' not supported between instances of 'NoneType' and 'NoneType'"
     ]
    }
   ],
   "source": [
    "import pandas as pd\n",
    "import requests\n",
    "from bs4 import BeautifulSoup\n",
    "\n",
    "# Step 1: Load the datasets\n",
    "links_df = pd.read_csv('links.csv')\n",
    "movies_df = pd.read_csv('movies.csv')\n",
    "ratings_df = pd.read_csv('ratings.csv')\n",
    "tags_df = pd.read_csv('tags.csv')\n",
    "\n",
    "# Task 1: How many \".csv\" files are available in the dataset?\n",
    "print(f\"Number of .csv files in the dataset: {len(['links.csv', 'movies.csv', 'ratings.csv', 'tags.csv'])}\")\n",
    "\n",
    "# Task 2: What is the shape of \"movies.csv\"?\n",
    "print(f\"Shape of 'movies.csv': {movies_df.shape}\")\n",
    "\n",
    "# Task 3: What is the shape of \"ratings.csv\"?\n",
    "print(f\"Shape of 'ratings.csv': {ratings_df.shape}\")\n",
    "\n",
    "# Task 4: How many unique \"userId\" are available in \"ratings.csv\"?\n",
    "unique_users = ratings_df['userId'].nunique()\n",
    "print(f\"Number of unique userId in 'ratings.csv': {unique_users}\")\n",
    "\n",
    "# Task 5: Which movie has received the maximum number of user ratings?\n",
    "max_rated_movie = ratings_df.groupby('movieId')['userId'].count().idxmax()\n",
    "print(f\"Movie with the maximum number of user ratings: {movies_df.loc[max_rated_movie, 'title']}\")\n",
    "\n",
    "# Task 6: Select all the correct tags submitted by users to \"Matrix, The (1999)\" movie?\n",
    "matrix_tags = tags_df[(tags_df['movieId'] == 2571) & (tags_df['tag'] == 'Matrix, The (1999)')]['tag'].tolist()\n",
    "print(f\"Tags for 'Matrix, The (1999)': {matrix_tags}\")\n",
    "\n",
    "# Task 7: What is the average user rating for the movie named \"Terminator 2: Judgment Day (1991)\"?\n",
    "average_rating_t2 = ratings_df[ratings_df['movieId'] == 589]['rating'].mean()\n",
    "print(f\"Average user rating for 'Terminator 2: Judgment Day (1991)': {average_rating_t2}\")\n",
    "\n",
    "# Task 8: How does the data distribution of user ratings for \"Fight Club (1999)\" movie look like?\n",
    "fight_club_ratings = ratings_df[ratings_df['movieId'] == 2959]['rating']\n",
    "print(f\"Data distribution of user ratings for 'Fight Club (1999)': {fight_club_ratings.describe()}\")\n",
    "\n",
    "# Mandatory Operations\n",
    "# Step 1: Group the user ratings based on movieId and apply aggregation operations\n",
    "grouped_ratings = ratings_df.groupby('movieId')['rating'].agg(['count', 'mean']).reset_index()\n",
    "\n",
    "# Step 2: Apply inner join on dataframe created from movies.csv and the grouped df from step 1\n",
    "merged_data = pd.merge(movies_df, grouped_ratings, on='movieId', how='inner')\n",
    "\n",
    "# Step 3: Filter only those movies which have more than 50 user ratings\n",
    "filtered_data = merged_data[merged_data['count'] > 50]\n",
    "\n",
    "# Task 9: Which movie is the most popular based on average user ratings?\n",
    "most_popular_movie = filtered_data.loc[filtered_data['mean'].idxmax(), 'title']\n",
    "print(f\"The most popular movie based on average user ratings: {most_popular_movie}\")\n",
    "\n",
    "# Task 10: Select all the correct options which come under the top 5 popular movies based on the number of user ratings\n",
    "top5_popular_movies = filtered_data.sort_values(by='count', ascending=False).head(5)['title'].tolist()\n",
    "print(f\"Top 5 popular movies based on number of user ratings: {top5_popular_movies}\")\n",
    "\n",
    "# Task 11: Which Sci-Fi movie is the \"third most popular\" based on the number of user ratings?\n",
    "third_most_popular_sci_fi = filtered_data[filtered_data['genres'].str.contains('Sci-Fi')].sort_values(by='count', ascending=False).iloc[2]['title']\n",
    "print(f\"The third most popular Sci-Fi movie: {third_most_popular_sci_fi}\")\n",
    "\n",
    "# IMPORTANT NOTE 2\n",
    "# You already have a subset of data containing only those movies which have received more than 50 user ratings.\n",
    "\n",
    "# Web Scraping IMDb ratings\n",
    "imdb_ratings = []\n",
    "\n",
    "for movie_id in filtered_data['movieId']:\n",
    "    imdb_id = links_df[links_df['movieId'] == movie_id]['imdbId'].values[0]\n",
    "    imdb_url = f\"https://www.imdb.com/title/tt{imdb_id}/\"\n",
    "    \n",
    "    response = requests.get(imdb_url)\n",
    "    soup = BeautifulSoup(response.text, 'html.parser')\n",
    "    \n",
    "    rating = soup.find('span', {'itemprop': 'ratingValue'})\n",
    "    if rating:\n",
    "        imdb_ratings.append({'movieId': movie_id, 'imdb_rating': float(rating.text)})\n",
    "    else:\n",
    "        imdb_ratings.append({'movieId': movie_id, 'imdb_rating': None})\n",
    "\n",
    "# Find movieId with the highest IMDb rating\n",
    "highest_imdb_rating_movieId = max(imdb_ratings, key=lambda x: x['imdb_rating'])['movieId']\n",
    "print(f\"MovieId with the highest IMDb rating: {highest_imdb_rating_movieId}\")\n",
    "\n",
    "# Find the Sci-Fi movieId with the highest IMDb rating\n",
    "highest_sci_fi_imdb_rating_movieId = max(\n",
    "    (movie for movie in imdb_ratings if filtered_data[filtered_data['movieId'] == movie['movieId']]['genres'].str.contains('Sci-Fi').any()),\n",
    "    key=lambda x: x['imdb_rating']\n",
    ")['movieId']\n",
    "print(f\"Sci-Fi MovieId with the highest IMDb rating: {highest_sci_fi_imdb_rating_movieId}\")\n"
   ]
  },
  {
   "cell_type": "code",
   "execution_count": 4,
   "id": "7c42c3dd",
   "metadata": {},
   "outputs": [
    {
     "data": {
      "image/png": "[encoded data removed]",
      "text/plain": [
       "<Figure size 640x480 with 1 Axes>"
      ]
     },
     "metadata": {},
     "output_type": "display_data"
    }
   ],
   "source": [
    "import matplotlib.pyplot as plt\n",
    "\n",
    "# Find the movieId for \"Fight Club (1999)\"\n",
    "fight_club_movieId = movies_df[movies_df['title'] == 'Fight Club (1999)']['movieId'].values[0]\n",
    "\n",
    "# Filter ratings for \"Fight Club\"\n",
    "fight_club_ratings = ratings_df[ratings_df['movieId'] == fight_club_movieId]\n",
    "\n",
    "# Plot a histogram\n",
    "plt.hist(fight_club_ratings['rating'], bins=[0.5, 1.5, 2.5, 3.5, 4.5, 5.5], edgecolor='black')\n",
    "plt.title('User Ratings Distribution for \"Fight Club (1999)\"')\n",
    "plt.xlabel('Rating')\n",
    "plt.ylabel('Number of Users')\n",
    "plt.show()"
   ]
  },
  {
   "cell_type": "code",
   "execution_count": 5,
   "id": "0597c362",
   "metadata": {},
   "outputs": [
    {
     "name": "stdout",
     "output_type": "stream",
     "text": [
      "IMDb ID for The Shawshank Redemption (1994): 111161\n"
     ]
    }
   ],
   "source": [
    "import pandas as pd\n",
    "\n",
    "# Load the movies and links datasets\n",
    "movies_df = pd.read_csv('movies.csv')\n",
    "links_df = pd.read_csv('links.csv')\n",
    "\n",
    "# Merge the datasets on the movieId column\n",
    "merged_df = pd.merge(movies_df, links_df, on='movieId', how='inner')\n",
    "\n",
    "# Find the row corresponding to 'The Shawshank Redemption (1994)'\n",
    "shawshank_row = merged_df[merged_df['title'] == 'Shawshank Redemption, The (1994)']\n",
    "\n",
    "# Check if the row exists\n",
    "if not shawshank_row.empty:\n",
    "    # Extract the IMDb ID from the row\n",
    "    imdb_id = shawshank_row['imdbId'].values[0]\n",
    "\n",
    "    # Print the IMDb ID\n",
    "    print(\"IMDb ID for The Shawshank Redemption (1994):\", imdb_id)\n",
    "else:\n",
    "    print(\"The Shawshank Redemption (1994) not found in the dataset.\")"
   ]
  },
  {
   "cell_type": "code",
   "execution_count": 6,
   "id": "74398490",
   "metadata": {},
   "outputs": [
    {
     "name": "stdout",
     "output_type": "stream",
     "text": [
      "movieId of the highest-rated Sci-Fi movie: 24\n"
     ]
    }
   ],
   "source": [
    "import pandas as pd\n",
    "\n",
    "# Load the movies, links, and ratings datasets\n",
    "movies_df = pd.read_csv('movies.csv')\n",
    "links_df = pd.read_csv('links.csv')\n",
    "ratings_df = pd.read_csv('ratings.csv')\n",
    "\n",
    "# Merge the datasets on the movieId column\n",
    "merged_df = pd.merge(movies_df, links_df, on='movieId', how='inner')\n",
    "merged_df = pd.merge(merged_df, ratings_df, on='movieId', how='inner')\n",
    "\n",
    "# Filter movies with the genre \"Sci-Fi\"\n",
    "scifi_movies = merged_df[merged_df['genres'].str.contains('Sci-Fi')]\n",
    "\n",
    "# Find the movie with the highest IMDb rating\n",
    "highest_rated_scifi_movie = scifi_movies.loc[scifi_movies['rating'].idxmax()]\n",
    "\n",
    "# Extract the movieId\n",
    "highest_rated_scifi_movie_id = highest_rated_scifi_movie['movieId']\n",
    "\n",
    "# Print the result\n",
    "print(\"movieId of the highest-rated Sci-Fi movie:\", highest_rated_scifi_movie_id)"
   ]
  },
  {
   "cell_type": "code",
   "execution_count": null,
   "id": "1f38a5d5",
   "metadata": {},
   "outputs": [],
   "source": []
  }
 ],
 "metadata": {
  "kernelspec": {
   "display_name": "Python 3 (ipykernel)",
   "language": "python",
   "name": "python3"
  },
  "language_info": {
   "codemirror_mode": {
    "name": "ipython",
    "version": 3
   },
   "file_extension": ".py",
   "mimetype": "text/x-python",
   "name": "python",
   "nbconvert_exporter": "python",
   "pygments_lexer": "ipython3",
   "version": "3.10.9"
  }
 },
 "nbformat": 4,
 "nbformat_minor": 5
}
